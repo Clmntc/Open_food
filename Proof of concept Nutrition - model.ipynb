{
 "cells": [
  {
   "cell_type": "markdown",
   "id": "bb2eaadb",
   "metadata": {},
   "source": [
    "# Sommaire"
   ]
  },
  {
   "cell_type": "markdown",
   "id": "1f0dfcee",
   "metadata": {},
   "source": [
    "* [Import des librairies](#Import-des-Librairies)\n",
    "* [Dataset](#Dataset)\n",
    "    * [Encodage du nutriscore](#Encodage-du-nutriscore)\n",
    "* [Remplacement par la prédiction](#Remplacement-par-la-prédiction)\n",
    "* [model de l'application](#model-de-l'application)\n",
    "* [Création de l'application](#Création-de-l'application)\n"
   ]
  },
  {
   "cell_type": "markdown",
   "id": "28beaede",
   "metadata": {
    "heading_collapsed": true
   },
   "source": [
    "# Import des Librairies"
   ]
  },
  {
   "cell_type": "code",
   "execution_count": 29,
   "id": "203526ef",
   "metadata": {
    "hidden": true
   },
   "outputs": [],
   "source": [
    "import numpy as np\n",
    "import pandas as pd\n",
    "import matplotlib.pyplot as plt\n",
    "from sklearn.linear_model import LinearRegression\n",
    "import seaborn as sns\n",
    "from sklearn.impute import MissingIndicator \n",
    "from sklearn.model_selection import train_test_split\n",
    "from sklearn.neighbors import KNeighborsClassifier\n",
    "from sklearn.preprocessing import StandardScaler\n",
    "from sklearn.ensemble import RandomForestClassifier\n",
    "from sklearn.model_selection import cross_val_score\n",
    "from sklearn.linear_model import LinearRegression"
   ]
  },
  {
   "cell_type": "markdown",
   "id": "c6d5d61f",
   "metadata": {
    "heading_collapsed": true
   },
   "source": [
    "# Dataset "
   ]
  },
  {
   "cell_type": "code",
   "execution_count": 2,
   "id": "22f6f589",
   "metadata": {
    "hidden": true
   },
   "outputs": [],
   "source": [
    "df = pd.read_csv('df_nutriscore.csv' , delimiter = \",\")"
   ]
  },
  {
   "cell_type": "code",
   "execution_count": 3,
   "id": "3cbd8e92",
   "metadata": {
    "hidden": true
   },
   "outputs": [],
   "source": [
    "df = df.drop(['proteins_100g','carbohydrates_100g','sodium_100g'],axis=1)"
   ]
  },
  {
   "cell_type": "code",
   "execution_count": 4,
   "id": "eae8d2d7",
   "metadata": {
    "hidden": true
   },
   "outputs": [
    {
     "data": {
      "text/plain": [
       "(647654, 7)"
      ]
     },
     "execution_count": 4,
     "metadata": {},
     "output_type": "execute_result"
    }
   ],
   "source": [
    "df.shape"
   ]
  },
  {
   "cell_type": "code",
   "execution_count": 5,
   "id": "f6bbcdc9",
   "metadata": {
    "hidden": true
   },
   "outputs": [
    {
     "data": {
      "text/html": [
       "<div><div id=f83094cc-68b6-49d0-ad66-e793349951b2 style=\"display:none; background-color:#9D6CFF; color:white; width:200px; height:30px; padding-left:5px; border-radius:4px; flex-direction:row; justify-content:space-around; align-items:center;\" onmouseover=\"this.style.backgroundColor='#BA9BF8'\" onmouseout=\"this.style.backgroundColor='#9D6CFF'\" onclick=\"window.commands?.execute('create-mitosheet-from-dataframe-output');\">See Full Dataframe in Mito</div> <script> if (window.commands.hasCommand('create-mitosheet-from-dataframe-output')) document.getElementById('f83094cc-68b6-49d0-ad66-e793349951b2').style.display = 'flex' </script> <table border=\"1\" class=\"dataframe\">\n",
       "  <thead>\n",
       "    <tr style=\"text-align: right;\">\n",
       "      <th></th>\n",
       "      <th>energy_100g</th>\n",
       "      <th>energy-kcal_100g</th>\n",
       "      <th>fat_100g</th>\n",
       "      <th>sugars_100g</th>\n",
       "      <th>saturated-fat_100g</th>\n",
       "      <th>salt_100g</th>\n",
       "      <th>nutriscore_grade</th>\n",
       "    </tr>\n",
       "  </thead>\n",
       "  <tbody>\n",
       "    <tr>\n",
       "      <th>0</th>\n",
       "      <td>1569.0</td>\n",
       "      <td>375.0</td>\n",
       "      <td>7.0</td>\n",
       "      <td>15.0</td>\n",
       "      <td>3.08</td>\n",
       "      <td>1.40</td>\n",
       "      <td>NaN</td>\n",
       "    </tr>\n",
       "    <tr>\n",
       "      <th>1</th>\n",
       "      <td>88.0</td>\n",
       "      <td>21.0</td>\n",
       "      <td>0.0</td>\n",
       "      <td>0.4</td>\n",
       "      <td>0.00</td>\n",
       "      <td>2.04</td>\n",
       "      <td>NaN</td>\n",
       "    </tr>\n",
       "    <tr>\n",
       "      <th>2</th>\n",
       "      <td>251.0</td>\n",
       "      <td>60.0</td>\n",
       "      <td>3.0</td>\n",
       "      <td>3.0</td>\n",
       "      <td>1.00</td>\n",
       "      <td>1.15</td>\n",
       "      <td>NaN</td>\n",
       "    </tr>\n",
       "    <tr>\n",
       "      <th>3</th>\n",
       "      <td>264.0</td>\n",
       "      <td>63.0</td>\n",
       "      <td>0.0</td>\n",
       "      <td>15.5</td>\n",
       "      <td>0.00</td>\n",
       "      <td>0.00</td>\n",
       "      <td>NaN</td>\n",
       "    </tr>\n",
       "    <tr>\n",
       "      <th>5</th>\n",
       "      <td>540.0</td>\n",
       "      <td>129.0</td>\n",
       "      <td>4.9</td>\n",
       "      <td>16.3</td>\n",
       "      <td>3.10</td>\n",
       "      <td>0.25</td>\n",
       "      <td>NaN</td>\n",
       "    </tr>\n",
       "  </tbody>\n",
       "</table></div>"
      ],
      "text/plain": [
       "   energy_100g  energy-kcal_100g  fat_100g  sugars_100g  saturated-fat_100g  \\\n",
       "0       1569.0             375.0       7.0         15.0                3.08   \n",
       "1         88.0              21.0       0.0          0.4                0.00   \n",
       "2        251.0              60.0       3.0          3.0                1.00   \n",
       "3        264.0              63.0       0.0         15.5                0.00   \n",
       "5        540.0             129.0       4.9         16.3                3.10   \n",
       "\n",
       "   salt_100g nutriscore_grade  \n",
       "0       1.40              NaN  \n",
       "1       2.04              NaN  \n",
       "2       1.15              NaN  \n",
       "3       0.00              NaN  \n",
       "5       0.25              NaN  "
      ]
     },
     "execution_count": 5,
     "metadata": {},
     "output_type": "execute_result"
    }
   ],
   "source": [
    "df_isnull = df.isnull()\n",
    "df_row = df_isnull.any(axis=1)\n",
    "df_nan = df[df_row]\n",
    "df_nan.head()"
   ]
  },
  {
   "cell_type": "code",
   "execution_count": 6,
   "id": "66a140c4",
   "metadata": {
    "hidden": true
   },
   "outputs": [
    {
     "data": {
      "text/plain": [
       "(328718, 7)"
      ]
     },
     "execution_count": 6,
     "metadata": {},
     "output_type": "execute_result"
    }
   ],
   "source": [
    "df_nan.shape"
   ]
  },
  {
   "cell_type": "code",
   "execution_count": 7,
   "id": "d23f7b89",
   "metadata": {
    "hidden": true
   },
   "outputs": [
    {
     "name": "stderr",
     "output_type": "stream",
     "text": [
      "NumExpr defaulting to 8 threads.\n"
     ]
    },
    {
     "data": {
      "text/html": [
       "<div><div id=b9910369-9612-44b9-a5d4-e710cf593b43 style=\"display:none; background-color:#9D6CFF; color:white; width:200px; height:30px; padding-left:5px; border-radius:4px; flex-direction:row; justify-content:space-around; align-items:center;\" onmouseover=\"this.style.backgroundColor='#BA9BF8'\" onmouseout=\"this.style.backgroundColor='#9D6CFF'\" onclick=\"window.commands?.execute('create-mitosheet-from-dataframe-output');\">See Full Dataframe in Mito</div> <script> if (window.commands.hasCommand('create-mitosheet-from-dataframe-output')) document.getElementById('b9910369-9612-44b9-a5d4-e710cf593b43').style.display = 'flex' </script> <table border=\"1\" class=\"dataframe\">\n",
       "  <thead>\n",
       "    <tr style=\"text-align: right;\">\n",
       "      <th></th>\n",
       "      <th>energy_100g</th>\n",
       "      <th>energy-kcal_100g</th>\n",
       "      <th>fat_100g</th>\n",
       "      <th>sugars_100g</th>\n",
       "      <th>saturated-fat_100g</th>\n",
       "      <th>salt_100g</th>\n",
       "      <th>nutriscore_grade</th>\n",
       "    </tr>\n",
       "  </thead>\n",
       "  <tbody>\n",
       "    <tr>\n",
       "      <th>4</th>\n",
       "      <td>134.0</td>\n",
       "      <td>32.0</td>\n",
       "      <td>0.3</td>\n",
       "      <td>3.9</td>\n",
       "      <td>0.1</td>\n",
       "      <td>0.42</td>\n",
       "      <td>b</td>\n",
       "    </tr>\n",
       "    <tr>\n",
       "      <th>10</th>\n",
       "      <td>1594.0</td>\n",
       "      <td>381.0</td>\n",
       "      <td>22.0</td>\n",
       "      <td>21.9</td>\n",
       "      <td>15.5</td>\n",
       "      <td>0.10</td>\n",
       "      <td>d</td>\n",
       "    </tr>\n",
       "    <tr>\n",
       "      <th>15</th>\n",
       "      <td>657.0</td>\n",
       "      <td>157.0</td>\n",
       "      <td>0.0</td>\n",
       "      <td>27.0</td>\n",
       "      <td>0.0</td>\n",
       "      <td>0.00</td>\n",
       "      <td>a</td>\n",
       "    </tr>\n",
       "    <tr>\n",
       "      <th>18</th>\n",
       "      <td>598.0</td>\n",
       "      <td>143.0</td>\n",
       "      <td>12.7</td>\n",
       "      <td>1.0</td>\n",
       "      <td>1.0</td>\n",
       "      <td>0.27</td>\n",
       "      <td>b</td>\n",
       "    </tr>\n",
       "    <tr>\n",
       "      <th>30</th>\n",
       "      <td>824.0</td>\n",
       "      <td>197.0</td>\n",
       "      <td>13.0</td>\n",
       "      <td>0.9</td>\n",
       "      <td>4.0</td>\n",
       "      <td>1.10</td>\n",
       "      <td>c</td>\n",
       "    </tr>\n",
       "  </tbody>\n",
       "</table></div>"
      ],
      "text/plain": [
       "    energy_100g  energy-kcal_100g  fat_100g  sugars_100g  saturated-fat_100g  \\\n",
       "4         134.0              32.0       0.3          3.9                 0.1   \n",
       "10       1594.0             381.0      22.0         21.9                15.5   \n",
       "15        657.0             157.0       0.0         27.0                 0.0   \n",
       "18        598.0             143.0      12.7          1.0                 1.0   \n",
       "30        824.0             197.0      13.0          0.9                 4.0   \n",
       "\n",
       "    salt_100g nutriscore_grade  \n",
       "4        0.42                b  \n",
       "10       0.10                d  \n",
       "15       0.00                a  \n",
       "18       0.27                b  \n",
       "30       1.10                c  "
      ]
     },
     "execution_count": 7,
     "metadata": {},
     "output_type": "execute_result"
    }
   ],
   "source": [
    "df_train = df.dropna()\n",
    "df_train.head()"
   ]
  },
  {
   "cell_type": "markdown",
   "id": "2c1ff367",
   "metadata": {
    "hidden": true
   },
   "source": [
    "## Encodage du nutriscore"
   ]
  },
  {
   "cell_type": "code",
   "execution_count": 8,
   "id": "3144a9ef",
   "metadata": {
    "hidden": true
   },
   "outputs": [
    {
     "name": "stderr",
     "output_type": "stream",
     "text": [
      "<ipython-input-8-6e97fd664467>:12: SettingWithCopyWarning: \n",
      "A value is trying to be set on a copy of a slice from a DataFrame.\n",
      "Try using .loc[row_indexer,col_indexer] = value instead\n",
      "\n",
      "See the caveats in the documentation: https://pandas.pydata.org/pandas-docs/stable/user_guide/indexing.html#returning-a-view-versus-a-copy\n",
      "  df_train['nutriscore_grade'] = df_train['nutriscore_grade'].apply(convert_grade)\n"
     ]
    }
   ],
   "source": [
    "def convert_grade(x):\n",
    "    if x == 'a':\n",
    "        return 1\n",
    "    if x == 'b':\n",
    "        return 2\n",
    "    if x == 'c':\n",
    "        return 3\n",
    "    if x == 'd':\n",
    "        return 4\n",
    "    if x == 'e':\n",
    "        return 5\n",
    "df_train['nutriscore_grade'] = df_train['nutriscore_grade'].apply(convert_grade)"
   ]
  },
  {
   "cell_type": "code",
   "execution_count": 9,
   "id": "bcff2700",
   "metadata": {
    "hidden": true
   },
   "outputs": [],
   "source": [
    "sns.pairplot(data=df_train, hue = 'nutriscore_grade')"
   ]
  },
  {
   "cell_type": "code",
   "execution_count": 94,
   "id": "2b2aa847",
   "metadata": {
    "hidden": true
   },
   "outputs": [
    {
     "data": {
      "text/plain": [
       "4    88665\n",
       "3    78978\n",
       "1    55788\n",
       "2    51052\n",
       "5    44453\n",
       "Name: nutriscore_grade, dtype: int64"
      ]
     },
     "execution_count": 94,
     "metadata": {},
     "output_type": "execute_result"
    }
   ],
   "source": [
    "df_train['nutriscore_grade'].value_counts()"
   ]
  },
  {
   "cell_type": "markdown",
   "id": "293371bf",
   "metadata": {
    "heading_collapsed": true
   },
   "source": [
    "# Remplacement par la prédiction"
   ]
  },
  {
   "cell_type": "code",
   "execution_count": 88,
   "id": "934d2a63",
   "metadata": {
    "hidden": true
   },
   "outputs": [
    {
     "data": {
      "text/html": [
       "<div><div id=eedbe47e-6aa7-486a-9473-5a9aca26c4d9 style=\"display:none; background-color:#9D6CFF; color:white; width:200px; height:30px; padding-left:5px; border-radius:4px; flex-direction:row; justify-content:space-around; align-items:center;\" onmouseover=\"this.style.backgroundColor='#BA9BF8'\" onmouseout=\"this.style.backgroundColor='#9D6CFF'\" onclick=\"window.commands?.execute('create-mitosheet-from-dataframe-output');\">See Full Dataframe in Mito</div> <script> if (window.commands.hasCommand('create-mitosheet-from-dataframe-output')) document.getElementById('eedbe47e-6aa7-486a-9473-5a9aca26c4d9').style.display = 'flex' </script> <table border=\"1\" class=\"dataframe\">\n",
       "  <thead>\n",
       "    <tr style=\"text-align: right;\">\n",
       "      <th></th>\n",
       "      <th>energy_100g</th>\n",
       "      <th>energy-kcal_100g</th>\n",
       "      <th>fat_100g</th>\n",
       "      <th>sugars_100g</th>\n",
       "      <th>saturated-fat_100g</th>\n",
       "      <th>salt_100g</th>\n",
       "    </tr>\n",
       "  </thead>\n",
       "  <tbody>\n",
       "    <tr>\n",
       "      <th>0</th>\n",
       "      <td>1569.0</td>\n",
       "      <td>375.0</td>\n",
       "      <td>7.0</td>\n",
       "      <td>15.0</td>\n",
       "      <td>3.08</td>\n",
       "      <td>1.4</td>\n",
       "    </tr>\n",
       "  </tbody>\n",
       "</table></div>"
      ],
      "text/plain": [
       "   energy_100g  energy-kcal_100g  fat_100g  sugars_100g  saturated-fat_100g  \\\n",
       "0       1569.0             375.0       7.0         15.0                3.08   \n",
       "\n",
       "   salt_100g  \n",
       "0        1.4  "
      ]
     },
     "execution_count": 88,
     "metadata": {},
     "output_type": "execute_result"
    }
   ],
   "source": [
    "X_train = df_train.drop(['nutriscore_grade'], axis=1)\n",
    "y_train =df_train['nutriscore_grade']\n",
    "\n",
    "X_test = df_nan.drop(['nutriscore_grade'],axis=1)\n",
    "X_test"
   ]
  },
  {
   "cell_type": "code",
   "execution_count": 89,
   "id": "95130c4f",
   "metadata": {
    "hidden": true
   },
   "outputs": [],
   "source": [
    "ss=StandardScaler()\n",
    "X_test=ss.fit_transform(X_test)\n",
    "X_train=ss.fit_transform(X_train)"
   ]
  },
  {
   "cell_type": "code",
   "execution_count": 90,
   "id": "f76f0acf",
   "metadata": {
    "hidden": true
   },
   "outputs": [
    {
     "data": {
      "text/plain": [
       "KNeighborsClassifier(n_neighbors=6)"
      ]
     },
     "execution_count": 90,
     "metadata": {},
     "output_type": "execute_result"
    }
   ],
   "source": [
    "model = KNeighborsClassifier(n_neighbors = 6)\n",
    "\n",
    "model.fit(X_train,y_train)"
   ]
  },
  {
   "cell_type": "code",
   "execution_count": 91,
   "id": "d8679405",
   "metadata": {
    "hidden": true
   },
   "outputs": [
    {
     "name": "stdout",
     "output_type": "stream",
     "text": [
      "0.8051646725361828\n"
     ]
    }
   ],
   "source": [
    "y_pred = model.predict(X_test)\n",
    "score = model.score(X_train, y_train)\n",
    "print(score)"
   ]
  },
  {
   "cell_type": "code",
   "execution_count": 92,
   "id": "030eab33",
   "metadata": {
    "hidden": true
   },
   "outputs": [
    {
     "data": {
      "text/plain": [
       "array([3], dtype=int64)"
      ]
     },
     "execution_count": 92,
     "metadata": {},
     "output_type": "execute_result"
    }
   ],
   "source": [
    "y_pred"
   ]
  },
  {
   "cell_type": "code",
   "execution_count": 59,
   "id": "83456b81",
   "metadata": {
    "hidden": true
   },
   "outputs": [
    {
     "data": {
      "text/html": [
       "<div><div id=6ebcbf5f-44db-4a83-819f-1f459090ba31 style=\"display:none; background-color:#9D6CFF; color:white; width:200px; height:30px; padding-left:5px; border-radius:4px; flex-direction:row; justify-content:space-around; align-items:center;\" onmouseover=\"this.style.backgroundColor='#BA9BF8'\" onmouseout=\"this.style.backgroundColor='#9D6CFF'\" onclick=\"window.commands?.execute('create-mitosheet-from-dataframe-output');\">See Full Dataframe in Mito</div> <script> if (window.commands.hasCommand('create-mitosheet-from-dataframe-output')) document.getElementById('6ebcbf5f-44db-4a83-819f-1f459090ba31').style.display = 'flex' </script> <table border=\"1\" class=\"dataframe\">\n",
       "  <thead>\n",
       "    <tr style=\"text-align: right;\">\n",
       "      <th></th>\n",
       "      <th>energy_100g</th>\n",
       "      <th>energy-kcal_100g</th>\n",
       "      <th>fat_100g</th>\n",
       "      <th>sugars_100g</th>\n",
       "      <th>saturated-fat_100g</th>\n",
       "      <th>salt_100g</th>\n",
       "      <th>nutriscore_grade</th>\n",
       "    </tr>\n",
       "  </thead>\n",
       "  <tbody>\n",
       "    <tr>\n",
       "      <th>0</th>\n",
       "      <td>1569.0</td>\n",
       "      <td>375.0</td>\n",
       "      <td>7.0</td>\n",
       "      <td>15.0</td>\n",
       "      <td>3.08</td>\n",
       "      <td>1.40</td>\n",
       "      <td>4</td>\n",
       "    </tr>\n",
       "    <tr>\n",
       "      <th>1</th>\n",
       "      <td>88.0</td>\n",
       "      <td>21.0</td>\n",
       "      <td>0.0</td>\n",
       "      <td>0.4</td>\n",
       "      <td>0.00</td>\n",
       "      <td>2.04</td>\n",
       "      <td>3</td>\n",
       "    </tr>\n",
       "    <tr>\n",
       "      <th>2</th>\n",
       "      <td>251.0</td>\n",
       "      <td>60.0</td>\n",
       "      <td>3.0</td>\n",
       "      <td>3.0</td>\n",
       "      <td>1.00</td>\n",
       "      <td>1.15</td>\n",
       "      <td>3</td>\n",
       "    </tr>\n",
       "    <tr>\n",
       "      <th>3</th>\n",
       "      <td>264.0</td>\n",
       "      <td>63.0</td>\n",
       "      <td>0.0</td>\n",
       "      <td>15.5</td>\n",
       "      <td>0.00</td>\n",
       "      <td>0.00</td>\n",
       "      <td>1</td>\n",
       "    </tr>\n",
       "    <tr>\n",
       "      <th>5</th>\n",
       "      <td>540.0</td>\n",
       "      <td>129.0</td>\n",
       "      <td>4.9</td>\n",
       "      <td>16.3</td>\n",
       "      <td>3.10</td>\n",
       "      <td>0.25</td>\n",
       "      <td>3</td>\n",
       "    </tr>\n",
       "  </tbody>\n",
       "</table></div>"
      ],
      "text/plain": [
       "   energy_100g  energy-kcal_100g  fat_100g  sugars_100g  saturated-fat_100g  \\\n",
       "0       1569.0             375.0       7.0         15.0                3.08   \n",
       "1         88.0              21.0       0.0          0.4                0.00   \n",
       "2        251.0              60.0       3.0          3.0                1.00   \n",
       "3        264.0              63.0       0.0         15.5                0.00   \n",
       "5        540.0             129.0       4.9         16.3                3.10   \n",
       "\n",
       "   salt_100g  nutriscore_grade  \n",
       "0       1.40                 4  \n",
       "1       2.04                 3  \n",
       "2       1.15                 3  \n",
       "3       0.00                 1  \n",
       "5       0.25                 3  "
      ]
     },
     "execution_count": 59,
     "metadata": {},
     "output_type": "execute_result"
    }
   ],
   "source": [
    "y_pred = np.round(y_pred)\n",
    "df_nan.loc[df_nan.nutriscore_grade.isnull(), 'nutriscore_grade'] = y_pred\n",
    "df_nan.head()"
   ]
  },
  {
   "cell_type": "code",
   "execution_count": 17,
   "id": "d151d2d7",
   "metadata": {
    "hidden": true
   },
   "outputs": [
    {
     "data": {
      "text/html": [
       "<div><div id=c73b7dda-7778-48c2-962a-6e790f916256 style=\"display:none; background-color:#9D6CFF; color:white; width:200px; height:30px; padding-left:5px; border-radius:4px; flex-direction:row; justify-content:space-around; align-items:center;\" onmouseover=\"this.style.backgroundColor='#BA9BF8'\" onmouseout=\"this.style.backgroundColor='#9D6CFF'\" onclick=\"window.commands?.execute('create-mitosheet-from-dataframe-output');\">See Full Dataframe in Mito</div> <script> if (window.commands.hasCommand('create-mitosheet-from-dataframe-output')) document.getElementById('c73b7dda-7778-48c2-962a-6e790f916256').style.display = 'flex' </script> <table border=\"1\" class=\"dataframe\">\n",
       "  <thead>\n",
       "    <tr style=\"text-align: right;\">\n",
       "      <th></th>\n",
       "      <th>energy_100g</th>\n",
       "      <th>energy-kcal_100g</th>\n",
       "      <th>fat_100g</th>\n",
       "      <th>sugars_100g</th>\n",
       "      <th>saturated-fat_100g</th>\n",
       "      <th>salt_100g</th>\n",
       "      <th>nutriscore_grade</th>\n",
       "    </tr>\n",
       "  </thead>\n",
       "  <tbody>\n",
       "    <tr>\n",
       "      <th>0</th>\n",
       "      <td>134.0</td>\n",
       "      <td>32.0</td>\n",
       "      <td>0.3</td>\n",
       "      <td>3.9</td>\n",
       "      <td>0.1</td>\n",
       "      <td>0.42</td>\n",
       "      <td>2</td>\n",
       "    </tr>\n",
       "    <tr>\n",
       "      <th>1</th>\n",
       "      <td>1594.0</td>\n",
       "      <td>381.0</td>\n",
       "      <td>22.0</td>\n",
       "      <td>21.9</td>\n",
       "      <td>15.5</td>\n",
       "      <td>0.10</td>\n",
       "      <td>4</td>\n",
       "    </tr>\n",
       "    <tr>\n",
       "      <th>2</th>\n",
       "      <td>657.0</td>\n",
       "      <td>157.0</td>\n",
       "      <td>0.0</td>\n",
       "      <td>27.0</td>\n",
       "      <td>0.0</td>\n",
       "      <td>0.00</td>\n",
       "      <td>1</td>\n",
       "    </tr>\n",
       "    <tr>\n",
       "      <th>3</th>\n",
       "      <td>598.0</td>\n",
       "      <td>143.0</td>\n",
       "      <td>12.7</td>\n",
       "      <td>1.0</td>\n",
       "      <td>1.0</td>\n",
       "      <td>0.27</td>\n",
       "      <td>2</td>\n",
       "    </tr>\n",
       "    <tr>\n",
       "      <th>4</th>\n",
       "      <td>824.0</td>\n",
       "      <td>197.0</td>\n",
       "      <td>13.0</td>\n",
       "      <td>0.9</td>\n",
       "      <td>4.0</td>\n",
       "      <td>1.10</td>\n",
       "      <td>3</td>\n",
       "    </tr>\n",
       "  </tbody>\n",
       "</table></div>"
      ],
      "text/plain": [
       "   energy_100g  energy-kcal_100g  fat_100g  sugars_100g  saturated-fat_100g  \\\n",
       "0        134.0              32.0       0.3          3.9                 0.1   \n",
       "1       1594.0             381.0      22.0         21.9                15.5   \n",
       "2        657.0             157.0       0.0         27.0                 0.0   \n",
       "3        598.0             143.0      12.7          1.0                 1.0   \n",
       "4        824.0             197.0      13.0          0.9                 4.0   \n",
       "\n",
       "   salt_100g  nutriscore_grade  \n",
       "0       0.42                 2  \n",
       "1       0.10                 4  \n",
       "2       0.00                 1  \n",
       "3       0.27                 2  \n",
       "4       1.10                 3  "
      ]
     },
     "execution_count": 17,
     "metadata": {},
     "output_type": "execute_result"
    }
   ],
   "source": [
    "df_complet = df_train.append(df_nan, ignore_index=True)\n",
    "df_complet.head()"
   ]
  },
  {
   "cell_type": "code",
   "execution_count": null,
   "id": "29de4c5c",
   "metadata": {
    "hidden": true
   },
   "outputs": [],
   "source": [
    "#sns.pairplot(data=df_complet, hue = 'nutriscore_grade')"
   ]
  },
  {
   "cell_type": "markdown",
   "id": "7e2a4d06",
   "metadata": {
    "heading_collapsed": true
   },
   "source": [
    "# model de l'application"
   ]
  },
  {
   "cell_type": "code",
   "execution_count": 18,
   "id": "457f6d75",
   "metadata": {
    "hidden": true
   },
   "outputs": [],
   "source": [
    "X = df_train.drop(['nutriscore_grade'], axis=1)\n",
    "y= df_train['nutriscore_grade']"
   ]
  },
  {
   "cell_type": "code",
   "execution_count": 19,
   "id": "66f5c687",
   "metadata": {
    "hidden": true
   },
   "outputs": [],
   "source": [
    "ss=StandardScaler()\n",
    "X=ss.fit_transform(X)"
   ]
  },
  {
   "cell_type": "code",
   "execution_count": 20,
   "id": "6b10a1a6",
   "metadata": {
    "hidden": true
   },
   "outputs": [],
   "source": [
    "X_train, X_test, y_train, y_test = train_test_split(X,y,test_size=0.3,random_state=10)"
   ]
  },
  {
   "cell_type": "markdown",
   "id": "71e39f2a",
   "metadata": {
    "hidden": true
   },
   "source": [
    "Modèle de RandomForest"
   ]
  },
  {
   "cell_type": "code",
   "execution_count": 23,
   "id": "d9bbc54b",
   "metadata": {
    "hidden": true
   },
   "outputs": [
    {
     "name": "stdout",
     "output_type": "stream",
     "text": [
      "20\n",
      "accurancy: 75.77%\n",
      "30\n",
      "accurancy: 76.13%\n",
      "40\n",
      "accurancy: 76.43%\n",
      "50\n",
      "accurancy: 76.37%\n",
      "60\n",
      "accurancy: 76.47%\n"
     ]
    }
   ],
   "source": [
    "for reg_param in (20,30,40,50,60):\n",
    "    print(reg_param)\n",
    "    model = RandomForestClassifier(n_estimators =reg_param)\n",
    "    model.fit(X_train, y_train)\n",
    "    accuracies = model.score(X_test, y_test)\n",
    "    print(f\"accurancy: {np.mean(accuracies) * 100:.2f}%\")"
   ]
  },
  {
   "cell_type": "markdown",
   "id": "37993057",
   "metadata": {
    "hidden": true
   },
   "source": [
    "Modèle de Knn"
   ]
  },
  {
   "cell_type": "code",
   "execution_count": 22,
   "id": "1d446d8e",
   "metadata": {
    "hidden": true
   },
   "outputs": [
    {
     "name": "stdout",
     "output_type": "stream",
     "text": [
      "2\n",
      "accurancy: 69.20%\n",
      "3\n",
      "accurancy: 72.36%\n",
      "4\n",
      "accurancy: 72.42%\n",
      "5\n",
      "accurancy: 73.45%\n",
      "6\n",
      "accurancy: 73.30%\n",
      "7\n",
      "accurancy: 73.96%\n",
      "8\n",
      "accurancy: 73.77%\n"
     ]
    }
   ],
   "source": [
    "for reg_param in (2,3,4,5,6,7,8):\n",
    "    print(reg_param)\n",
    "    model = KNeighborsClassifier(n_neighbors =reg_param)\n",
    "    model.fit(X_train, y_train)\n",
    "    accuracies = model.score(X_test, y_test)\n",
    "    print(f\"accurancy: {np.mean(accuracies) * 100:.2f}%\")"
   ]
  },
  {
   "cell_type": "code",
   "execution_count": 105,
   "id": "3c0b0e6d",
   "metadata": {
    "hidden": true
   },
   "outputs": [],
   "source": [
    "import pickle\n",
    "\n",
    "model = RandomForestClassifier(n_estimators =60)\n",
    "model.fit(X_train, y_train)\n",
    "                               \n",
    "with open(\"model.pkl\", \"wb\") as file:\n",
    "    pickle.dump(model, file)"
   ]
  },
  {
   "cell_type": "markdown",
   "id": "095a3fc4",
   "metadata": {
    "heading_collapsed": true
   },
   "source": [
    "# Création de l'application"
   ]
  },
  {
   "cell_type": "code",
   "execution_count": 109,
   "id": "8c11c565",
   "metadata": {
    "hidden": true
   },
   "outputs": [
    {
     "name": "stdout",
     "output_type": "stream",
     "text": [
      "entrer le nombre de energie/100g: 630\n",
      "entrer le nombre de energie_kcal/100g: 1\n",
      "entrer le nombre de matières grasses: 2\n",
      "entrer le nombre de graisse saturé: 0\n",
      "entrer le nombre de sucre: 0\n",
      "entrer le nombre de sel: 0\n",
      "le nutriscore de votre produit est:  A\n"
     ]
    }
   ],
   "source": [
    "df_app = pd.DataFrame(index=['0'], columns=['energy_100g','energy-kcal_100g',\n",
    "                                            'fat_100g','sugars_100g','saturated-fat_100g','salt_100g'])\n",
    "\n",
    "energie = input('entrer le nombre de energie/100g: ')\n",
    "energie_kcal = input('entrer le nombre de energie_kcal/100g: ')\n",
    "fat = input('entrer le nombre de matières grasses: ')\n",
    "sat_fat = input('entrer le nombre de graisse saturé: ')\n",
    "sugar = input('entrer le nombre de sucre: ')\n",
    "salt = input('entrer le nombre de sel: ')\n",
    "\n",
    "\n",
    "df_app.at['0', 'energy_100g'] = energie\n",
    "df_app.at['0', 'energy-kcal_100g'] = energie_kcal\n",
    "df_app.at['0', 'fat_100g'] = fat\n",
    "df_app.at['0', 'sugars_100g'] = sugar\n",
    "df_app.at['0', 'saturated-fat_100g'] = sat_fat\n",
    "df_app.at['0', 'salt_100g'] = salt\n",
    "\n",
    "\n",
    "X_train = df_train.drop(['nutriscore_grade'], axis=1)\n",
    "y_train =df_train['nutriscore_grade']\n",
    "X_test = df_app\n",
    "\n",
    "\n",
    "\n",
    "model = pickle.load(open(\"model.pkl\",\"rb\"))\n",
    "\n",
    "\n",
    "y_pred = model.predict(X_test)\n",
    "\n",
    "def score(x):\n",
    "    if x ==5:\n",
    "        return 'E'\n",
    "    elif x ==4:\n",
    "        return 'D'\n",
    "    elif x == 3:\n",
    "        return 'C'\n",
    "    elif x == 2:\n",
    "        return 'B'\n",
    "    else:\n",
    "        return 'A'\n",
    "        \n",
    "print('le nutriscore de votre produit est: ',score(y_pred))"
   ]
  }
 ],
 "metadata": {
  "kernelspec": {
   "display_name": "Python 3",
   "language": "python",
   "name": "python3"
  },
  "language_info": {
   "codemirror_mode": {
    "name": "ipython",
    "version": 3
   },
   "file_extension": ".py",
   "mimetype": "text/x-python",
   "name": "python",
   "nbconvert_exporter": "python",
   "pygments_lexer": "ipython3",
   "version": "3.8.8"
  },
  "toc": {
   "base_numbering": 1,
   "nav_menu": {},
   "number_sections": true,
   "sideBar": true,
   "skip_h1_title": false,
   "title_cell": "Table of Contents",
   "title_sidebar": "Contents",
   "toc_cell": false,
   "toc_position": {},
   "toc_section_display": true,
   "toc_window_display": false
  },
  "varInspector": {
   "cols": {
    "lenName": 16,
    "lenType": 16,
    "lenVar": 40
   },
   "kernels_config": {
    "python": {
     "delete_cmd_postfix": "",
     "delete_cmd_prefix": "del ",
     "library": "var_list.py",
     "varRefreshCmd": "print(var_dic_list())"
    },
    "r": {
     "delete_cmd_postfix": ") ",
     "delete_cmd_prefix": "rm(",
     "library": "var_list.r",
     "varRefreshCmd": "cat(var_dic_list()) "
    }
   },
   "types_to_exclude": [
    "module",
    "function",
    "builtin_function_or_method",
    "instance",
    "_Feature"
   ],
   "window_display": false
  }
 },
 "nbformat": 4,
 "nbformat_minor": 5
}
